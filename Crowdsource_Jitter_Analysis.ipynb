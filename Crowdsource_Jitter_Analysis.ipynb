{
  "cells": [
    {
      "cell_type": "markdown",
      "metadata": {
        "id": "view-in-github",
        "colab_type": "text"
      },
      "source": [
        "<a href=\"https://colab.research.google.com/github/HuwCheston/Crowdsource-Jitter-Analysis/blob/main/Crowdsource_Jitter_Analysis.ipynb\" target=\"_parent\"><img src=\"https://colab.research.google.com/assets/colab-badge.svg\" alt=\"Open In Colab\"/></a>"
      ]
    },
    {
      "cell_type": "markdown",
      "metadata": {
        "id": "88be08aa"
      },
      "source": [
        "# ***Telecommunication Jitter Analysis***"
      ],
      "id": "88be08aa"
    },
    {
      "cell_type": "markdown",
      "metadata": {
        "id": "zcXAIU9G0l0j"
      },
      "source": [
        "<img src=\"https://images.unsplash.com/photo-1606770347238-77fcfd29906c?ixlib=rb-1.2.1&ixid=MnwxMjA3fDB8MHxwaG90by1wYWdlfHx8fGVufDB8fHx8&auto=format&fit=crop&w=1975&q=80, width=100\" alt=\"cover\" width=400>"
      ],
      "id": "zcXAIU9G0l0j"
    },
    {
      "cell_type": "markdown",
      "metadata": {
        "id": "KKFdPtLwx4oM"
      },
      "source": [
        "# **1. Create the recording.**\n",
        "One of the ways we can measure how latency changes over time is to repeatedly send a consistent sound source over a network and measure how long it takes for this to be received. We can do this quite easily with a metronome and two devices connected to the same Zoom call."
      ],
      "id": "KKFdPtLwx4oM"
    },
    {
      "cell_type": "markdown",
      "metadata": {
        "id": "CbilDiEB1yzq"
      },
      "source": [
        "## You will need.\n",
        "*   Two devices capable of connecting to the internet (laptop, phone, tablet...), with the Zoom client installed on both (download here);\n",
        "*   A recording device (phone, portable recorder...);\n",
        "*   Two Zoom accounts (free accounts are fine!).\n",
        "\n",
        "\n"
      ],
      "id": "CbilDiEB1yzq"
    },
    {
      "cell_type": "markdown",
      "metadata": {
        "id": "U7AlBPfY30sr"
      },
      "source": [
        "## Start the call.\n",
        "**We need to set up a single Zoom call that has both of our devices present as participants.**\n",
        "\n",
        "On your first device (the *sender device*), open up Zoom and click 'Start Meeting', then 'Join with Computer Audio'. Next, click 'Participants' on the menu at the bottom, then 'Invite' on the tab that opens up. Make a note of the Meeting ID and Meeting Passcode in the window that opens up. On your second device (the *receiver device*), open up Zoom and click 'Join'. Enter the Meeting ID from the call you started with the *sender device*, click 'Join', then enter the Meeting Passcode. On the *sender device*, admit the *receiver device* by clicking 'Admit' on the 'Participants' tab. Then, click 'Join with Computer Audio' on the *receiver device*."
      ],
      "id": "U7AlBPfY30sr"
    },
    {
      "cell_type": "markdown",
      "metadata": {
        "id": "cMx-dosL5EBM"
      },
      "source": [
        "## Set up receiver audio for the test.\n",
        "\n",
        "On your *receiver device*, navigate to the Zoom settings -> 'Audio'. Set 'Supress background noise' to 'Low'. Underneath 'Music and Professional Audio', enable 'Show in-meeting option to enable 'Original Sound'. Finally, under this option, **disable Echo cancellation**. Now, return to the Zoom call on your *receiver device*, and you should see a drop-down box in the top-left corner that says 'Original Sound: Off'. Turn this on.\n"
      ],
      "id": "cMx-dosL5EBM"
    },
    {
      "cell_type": "markdown",
      "metadata": {
        "id": "AchChz807VJh"
      },
      "source": [
        "## Set up sender audio for the test.\n",
        "\n",
        "On your *sender device*, download our test audio from the link here. Open this file up and verify that you can play it sucessfully. Return to the Zoom call, and enable your microphone (keeping the *receiver device* microphone disabled). Place both *sender* and *receiver* devices next to each other, and play the test audio file. You should be able to hear the original audio file from the *sender*, and an echo on the *receiver*. **Adjust the volume of both devices until the echo is coming through clearly and without feedback.**"
      ],
      "id": "AchChz807VJh"
    },
    {
      "cell_type": "markdown",
      "metadata": {
        "id": "s_8ywwE874Ma"
      },
      "source": [
        "## Conduct the test.\n",
        "\n",
        "Now, open up your recording device and place this inbetween the *sender* and *receiver*. Begin recording on this device, and start the test audio from the beginning on the *sender*. **Let the recording run all the way through: this should take about three minutes.** Try not to make too much noise while the recording is in progress. Once it has finished, export the audio from your recording device and send it to the computer you're accessing this webpage on. "
      ],
      "id": "s_8ywwE874Ma"
    },
    {
      "cell_type": "markdown",
      "metadata": {
        "id": "yJ4YubxDxvlk"
      },
      "source": [
        "# **2. Upload data.**"
      ],
      "id": "yJ4YubxDxvlk"
    },
    {
      "cell_type": "markdown",
      "metadata": {
        "id": "d677abfa"
      },
      "source": [
        "## Upload your audio.\n",
        "\n",
        "Now, click on 'Runtime' in the menu at the top of this page, and press 'Restart and run all'. Press 'Yes' in the drop down that follows.\n",
        "\n",
        "The next cell will ask you to upload the recording you made earlier.\n",
        "Please click the 'Choose files' button, then navigate in the file browser to the location where you saved the recording.\n",
        "\n",
        "**Uploading may take several minutes depending on your connection and the size of the file.**"
      ],
      "id": "d677abfa"
    },
    {
      "cell_type": "code",
      "execution_count": null,
      "metadata": {
        "cellView": "form",
        "id": "E71HBHiJi6g8"
      },
      "outputs": [],
      "source": [
        "#@title\n",
        "from google.colab import files\n",
        "uploaded = files.upload()"
      ],
      "id": "E71HBHiJi6g8"
    },
    {
      "cell_type": "markdown",
      "metadata": {
        "id": "ceI-BHAItPK9"
      },
      "source": [
        "## Describe your internet connection.\n",
        "In order to gather good quality data, I need to know a bit about your internet connection.\n",
        "\n",
        "Type in your answer into the box and press enter to move to the next question.\n",
        "\n",
        "\n",
        "\n"
      ],
      "id": "ceI-BHAItPK9"
    },
    {
      "cell_type": "markdown",
      "metadata": {
        "id": "7g-99zngJ3gV"
      },
      "source": [
        "Q1. Please enter the city and country where you made the recording."
      ],
      "id": "7g-99zngJ3gV"
    },
    {
      "cell_type": "code",
      "execution_count": null,
      "metadata": {
        "cellView": "form",
        "id": "jRwK5t7ItVSd"
      },
      "outputs": [],
      "source": [
        "#@title\n",
        "user_location = input('')"
      ],
      "id": "jRwK5t7ItVSd"
    },
    {
      "cell_type": "markdown",
      "metadata": {
        "id": "exO7Io69J9RF"
      },
      "source": [
        "Q2. In your own words, please describe your internet connection (e.g. wired with Ethernet cable, wireless with inbuilt adapter...)"
      ],
      "id": "exO7Io69J9RF"
    },
    {
      "cell_type": "code",
      "execution_count": null,
      "metadata": {
        "cellView": "form",
        "id": "sxEKvn8StXkV"
      },
      "outputs": [],
      "source": [
        "#@title\n",
        "internet_description = input('')"
      ],
      "id": "sxEKvn8StXkV"
    },
    {
      "cell_type": "markdown",
      "metadata": {
        "id": "yEHWSZVIKFft"
      },
      "source": [
        "Q3. On a scale of 1 to 5 (with 1 meaning never and 5 all the time), how often do you experience dropouts and disconnects when making calls over Zoom or another teleconferencing platform?"
      ],
      "id": "yEHWSZVIKFft"
    },
    {
      "cell_type": "code",
      "execution_count": null,
      "metadata": {
        "cellView": "form",
        "id": "dmeC_jHXt7um"
      },
      "outputs": [],
      "source": [
        "#@title\n",
        "zoom_quality = input('')"
      ],
      "id": "dmeC_jHXt7um"
    },
    {
      "cell_type": "markdown",
      "metadata": {
        "id": "SjgZKpLBIPqF"
      },
      "source": [
        "Once you've answered these questions, the audio will begin processing in Python in the cells below."
      ],
      "id": "SjgZKpLBIPqF"
    },
    {
      "cell_type": "markdown",
      "metadata": {
        "id": "hL0tZJFTwTKz"
      },
      "source": [
        "# **3. Audio Processing**\n",
        "\n",
        "The following cells will perform these actions:\n",
        "*   Import dependencies and set constant variables;\n",
        "*   Load your recording into Python;\n",
        "*   Reduce any surface noise using the NoiseReduce module;\n",
        "*   Process onset times for metronome clicks in the Librosa module;\n",
        "*   Calculate the latency time for each successive metronome click;\n",
        "*   Visualise the presence of jitter as a histogram and line chart.\n",
        "*   Save the data locally\n",
        "\n",
        "You shouldn't need to do anything here, so just allow the code to run all the way through."
      ],
      "id": "hL0tZJFTwTKz"
    },
    {
      "cell_type": "markdown",
      "metadata": {
        "id": "db6e283d"
      },
      "source": [
        "## Import dependencies."
      ],
      "id": "db6e283d"
    },
    {
      "cell_type": "code",
      "execution_count": null,
      "metadata": {
        "id": "hdjBrWwxMUHt",
        "collapsed": true,
        "cellView": "form",
        "colab": {
          "base_uri": "https://localhost:8080/"
        },
        "outputId": "6ade9ced-d582-4587-bb08-4c9aaa567dc9"
      },
      "outputs": [
        {
          "output_type": "stream",
          "name": "stdout",
          "text": [
            "Looking in indexes: https://pypi.org/simple, https://us-python.pkg.dev/colab-wheels/public/simple/\n",
            "Requirement already satisfied: noisereduce in /usr/local/lib/python3.7/dist-packages (2.0.1)\n",
            "Requirement already satisfied: numpy in /usr/local/lib/python3.7/dist-packages (from noisereduce) (1.21.6)\n",
            "Requirement already satisfied: tqdm in /usr/local/lib/python3.7/dist-packages (from noisereduce) (4.64.0)\n",
            "Requirement already satisfied: scipy in /usr/local/lib/python3.7/dist-packages (from noisereduce) (1.4.1)\n",
            "Requirement already satisfied: matplotlib in /usr/local/lib/python3.7/dist-packages (from noisereduce) (3.2.2)\n",
            "Requirement already satisfied: librosa in /usr/local/lib/python3.7/dist-packages (from noisereduce) (0.8.1)\n",
            "Requirement already satisfied: packaging>=20.0 in /usr/local/lib/python3.7/dist-packages (from librosa->noisereduce) (21.3)\n",
            "Requirement already satisfied: decorator>=3.0.0 in /usr/local/lib/python3.7/dist-packages (from librosa->noisereduce) (4.4.2)\n",
            "Requirement already satisfied: joblib>=0.14 in /usr/local/lib/python3.7/dist-packages (from librosa->noisereduce) (1.1.0)\n",
            "Requirement already satisfied: pooch>=1.0 in /usr/local/lib/python3.7/dist-packages (from librosa->noisereduce) (1.6.0)\n",
            "Requirement already satisfied: resampy>=0.2.2 in /usr/local/lib/python3.7/dist-packages (from librosa->noisereduce) (0.2.2)\n",
            "Requirement already satisfied: audioread>=2.0.0 in /usr/local/lib/python3.7/dist-packages (from librosa->noisereduce) (2.1.9)\n",
            "Requirement already satisfied: scikit-learn!=0.19.0,>=0.14.0 in /usr/local/lib/python3.7/dist-packages (from librosa->noisereduce) (1.0.2)\n",
            "Requirement already satisfied: numba>=0.43.0 in /usr/local/lib/python3.7/dist-packages (from librosa->noisereduce) (0.51.2)\n",
            "Requirement already satisfied: soundfile>=0.10.2 in /usr/local/lib/python3.7/dist-packages (from librosa->noisereduce) (0.10.3.post1)\n",
            "Requirement already satisfied: setuptools in /usr/local/lib/python3.7/dist-packages (from numba>=0.43.0->librosa->noisereduce) (57.4.0)\n",
            "Requirement already satisfied: llvmlite<0.35,>=0.34.0.dev0 in /usr/local/lib/python3.7/dist-packages (from numba>=0.43.0->librosa->noisereduce) (0.34.0)\n",
            "Requirement already satisfied: pyparsing!=3.0.5,>=2.0.2 in /usr/local/lib/python3.7/dist-packages (from packaging>=20.0->librosa->noisereduce) (3.0.9)\n",
            "Requirement already satisfied: appdirs>=1.3.0 in /usr/local/lib/python3.7/dist-packages (from pooch>=1.0->librosa->noisereduce) (1.4.4)\n",
            "Requirement already satisfied: requests>=2.19.0 in /usr/local/lib/python3.7/dist-packages (from pooch>=1.0->librosa->noisereduce) (2.23.0)\n",
            "Requirement already satisfied: chardet<4,>=3.0.2 in /usr/local/lib/python3.7/dist-packages (from requests>=2.19.0->pooch>=1.0->librosa->noisereduce) (3.0.4)\n",
            "Requirement already satisfied: idna<3,>=2.5 in /usr/local/lib/python3.7/dist-packages (from requests>=2.19.0->pooch>=1.0->librosa->noisereduce) (2.10)\n",
            "Requirement already satisfied: certifi>=2017.4.17 in /usr/local/lib/python3.7/dist-packages (from requests>=2.19.0->pooch>=1.0->librosa->noisereduce) (2022.6.15)\n",
            "Requirement already satisfied: urllib3!=1.25.0,!=1.25.1,<1.26,>=1.21.1 in /usr/local/lib/python3.7/dist-packages (from requests>=2.19.0->pooch>=1.0->librosa->noisereduce) (1.24.3)\n",
            "Requirement already satisfied: six>=1.3 in /usr/local/lib/python3.7/dist-packages (from resampy>=0.2.2->librosa->noisereduce) (1.15.0)\n",
            "Requirement already satisfied: threadpoolctl>=2.0.0 in /usr/local/lib/python3.7/dist-packages (from scikit-learn!=0.19.0,>=0.14.0->librosa->noisereduce) (3.1.0)\n",
            "Requirement already satisfied: cffi>=1.0 in /usr/local/lib/python3.7/dist-packages (from soundfile>=0.10.2->librosa->noisereduce) (1.15.0)\n",
            "Requirement already satisfied: pycparser in /usr/local/lib/python3.7/dist-packages (from cffi>=1.0->soundfile>=0.10.2->librosa->noisereduce) (2.21)\n",
            "Requirement already satisfied: cycler>=0.10 in /usr/local/lib/python3.7/dist-packages (from matplotlib->noisereduce) (0.11.0)\n",
            "Requirement already satisfied: kiwisolver>=1.0.1 in /usr/local/lib/python3.7/dist-packages (from matplotlib->noisereduce) (1.4.3)\n",
            "Requirement already satisfied: python-dateutil>=2.1 in /usr/local/lib/python3.7/dist-packages (from matplotlib->noisereduce) (2.8.2)\n",
            "Requirement already satisfied: typing-extensions in /usr/local/lib/python3.7/dist-packages (from kiwisolver>=1.0.1->matplotlib->noisereduce) (4.1.1)\n"
          ]
        }
      ],
      "source": [
        "#@title\n",
        "!pip install noisereduce"
      ],
      "id": "hdjBrWwxMUHt"
    },
    {
      "cell_type": "code",
      "execution_count": null,
      "metadata": {
        "id": "347dfaf7",
        "cellView": "form"
      },
      "outputs": [],
      "source": [
        "#@title\n",
        "import pandas as pd\n",
        "import numpy as np\n",
        "import librosa\n",
        "import matplotlib.pyplot as plt\n",
        "from scipy import stats\n",
        "import noisereduce as nr\n",
        "import IPython\n",
        "from datetime import datetime, timezone\n",
        "import json\n",
        "import soundfile as sf"
      ],
      "id": "347dfaf7"
    },
    {
      "cell_type": "code",
      "execution_count": null,
      "metadata": {
        "id": "8fe0b8c7",
        "cellView": "form"
      },
      "outputs": [],
      "source": [
        "#@title\n",
        "# Samplerate defaults to 44100 khz\n",
        "samplerate = 44100\n",
        "# Tolerance threshold for removing spurious values (in seconds)\n",
        "tolerance = 0.15\n",
        "# Number of bins for histogram\n",
        "num_bins = 10\n",
        "# Noise reduction threshold: increase to remove more noise\n",
        "nr_threshold = 1.0"
      ],
      "id": "8fe0b8c7"
    },
    {
      "cell_type": "markdown",
      "metadata": {
        "id": "_uA7rGPuq05e"
      },
      "source": [
        "## Load in recording."
      ],
      "id": "_uA7rGPuq05e"
    },
    {
      "cell_type": "code",
      "execution_count": null,
      "metadata": {
        "id": "45784b9c",
        "cellView": "form",
        "collapsed": true,
        "colab": {
          "base_uri": "https://localhost:8080/"
        },
        "outputId": "0ae3cf38-61ca-4019-a65b-cf7724014d28"
      },
      "outputs": [
        {
          "output_type": "stream",
          "name": "stderr",
          "text": [
            "/usr/local/lib/python3.7/dist-packages/librosa/core/audio.py:165: UserWarning: PySoundFile failed. Trying audioread instead.\n",
            "  warnings.warn(\"PySoundFile failed. Trying audioread instead.\")\n"
          ]
        }
      ],
      "source": [
        "#@title\n",
        "for fn in uploaded.keys():\n",
        "    y, sr = librosa.load(fn, sr=samplerate)"
      ],
      "id": "45784b9c"
    },
    {
      "cell_type": "markdown",
      "metadata": {
        "id": "TbV3tsWssxV-"
      },
      "source": [
        "## Clean up audio."
      ],
      "id": "TbV3tsWssxV-"
    },
    {
      "cell_type": "code",
      "execution_count": null,
      "metadata": {
        "id": "5NknDh75oZCX",
        "cellView": "form"
      },
      "outputs": [],
      "source": [
        "#@title\n",
        "reduced_noise = nr.reduce_noise(y, sr, prop_decrease=nr_threshold)"
      ],
      "id": "5NknDh75oZCX"
    },
    {
      "cell_type": "markdown",
      "metadata": {
        "id": "deb3d7d7"
      },
      "source": [
        "## Process onset times."
      ],
      "id": "deb3d7d7"
    },
    {
      "cell_type": "code",
      "execution_count": null,
      "metadata": {
        "id": "bd80b6c2",
        "cellView": "form"
      },
      "outputs": [],
      "source": [
        "#@title\n",
        "def onset_analysis(y, sr):\n",
        "    \"\"\"Analyse a librosa file and return onset times\"\"\"\n",
        "    onset_times = librosa.onset.onset_detect(y=y, sr=sr, units='time')\n",
        "    return onset_times"
      ],
      "id": "bd80b6c2"
    },
    {
      "cell_type": "code",
      "execution_count": null,
      "metadata": {
        "id": "358f5539",
        "cellView": "form"
      },
      "outputs": [],
      "source": [
        "#@title\n",
        "processed = onset_analysis(reduced_noise, sr)"
      ],
      "id": "358f5539"
    },
    {
      "cell_type": "markdown",
      "metadata": {
        "id": "OBU6PZQMyXy8"
      },
      "source": [
        "## Calculate latency."
      ],
      "id": "OBU6PZQMyXy8"
    },
    {
      "cell_type": "code",
      "execution_count": null,
      "metadata": {
        "id": "077f4a8b",
        "cellView": "form"
      },
      "outputs": [],
      "source": [
        "#@title\n",
        "def get_differences(x) -> list:\n",
        "    \"\"\"Return the difference between subsequent elements in array (i.e. real/echoed metronome clicks)\"\"\"\n",
        "    # Set the array to the correct shape\n",
        "    x = x if x.shape[0] % 2 == 0 else np.delete(x, -1)\n",
        "    # Calculate the difference between successive elements in the array\n",
        "    diff = np.diff(x)\n",
        "    return iter_array(diff)"
      ],
      "id": "077f4a8b"
    },
    {
      "cell_type": "code",
      "execution_count": null,
      "metadata": {
        "id": "7135a351",
        "cellView": "form"
      },
      "outputs": [],
      "source": [
        "#@title\n",
        "def iter_array(diff) -> list:\n",
        "    \"\"\"Iterate through a cleaned array and get the smaller of the two differences for every metronome click\"\"\"\n",
        "    # Remove spurious values from the the differenced array\n",
        "    it = remove_spurious(diff)  \n",
        "    # Iterate through array\n",
        "    vals = []\n",
        "    for x in it:\n",
        "        # Append the smaller of two consecutive onsets (e.g. real -> echoed IOI, not echoed -> real IOI)\n",
        "        try:\n",
        "            vals.append(min((x, next(it))))\n",
        "        # Break when generator is exhausted\n",
        "        except StopIteration as e:\n",
        "            break\n",
        "    return vals"
      ],
      "id": "7135a351"
    },
    {
      "cell_type": "code",
      "execution_count": null,
      "metadata": {
        "id": "d0650500",
        "cellView": "form"
      },
      "outputs": [],
      "source": [
        "#@title\n",
        "def remove_spurious(x) -> iter:\n",
        "    \"\"\"Remove values below the tolerance threshold from an array, which may be incorrect onsets labelled by Librosa\"\"\"\n",
        "    return iter(x[x > tolerance])"
      ],
      "id": "d0650500"
    },
    {
      "cell_type": "code",
      "execution_count": null,
      "metadata": {
        "id": "9wWfzLB_yMLM",
        "cellView": "form"
      },
      "outputs": [],
      "source": [
        "#@title\n",
        "arr = get_differences(processed)"
      ],
      "id": "9wWfzLB_yMLM"
    },
    {
      "cell_type": "markdown",
      "metadata": {
        "id": "6e774504"
      },
      "source": [
        "## Visualise the jitter."
      ],
      "id": "6e774504"
    },
    {
      "cell_type": "code",
      "execution_count": null,
      "metadata": {
        "id": "74f9e5bc",
        "cellView": "form"
      },
      "outputs": [],
      "source": [
        "#@title\n",
        "def plot_hist(arr, ax,):\n",
        "    \"\"\"Plots a histogram of latency distribution for one recording\"\"\"\n",
        "    # Create graph on subplot\n",
        "    ax.hist(arr, rwidth=0.9, bins=num_bins)\n",
        "    # Set appearance of subplot\n",
        "    plt.text(0.35, 0.0, return_ranges(arr), fontsize=14, transform=plt.gcf().transFigure)\n",
        "    ax.set(xlim=(min(arr) - tolerance, max(arr) + tolerance),)"
      ],
      "id": "74f9e5bc"
    },
    {
      "cell_type": "code",
      "execution_count": null,
      "metadata": {
        "id": "c2417f4a",
        "cellView": "form"
      },
      "outputs": [],
      "source": [
        "#@title\n",
        "def plot_line(arr, ax):\n",
        "    \"\"\"Plots a line chart of latency progression for one recording\"\"\"\n",
        "    # Create graph on subplot\n",
        "    ax.plot(arr)\n",
        "    # Set appearance of subplot\n",
        "    plt.text(0.35, 0, return_ranges(arr), fontsize=14, transform=plt.gcf().transFigure)"
      ],
      "id": "c2417f4a"
    },
    {
      "cell_type": "code",
      "execution_count": null,
      "metadata": {
        "id": "08084590",
        "cellView": "form"
      },
      "outputs": [],
      "source": [
        "#@title\n",
        "def return_ranges(arr):\n",
        "    \"\"\"Return the IQR and range for an array\"\"\"\n",
        "    # Calculate the specified major and minor percentiles\n",
        "    func = lambda ma, mi: str(np.round(np.subtract(*np.percentile(arr, [ma, mi])), 2))\n",
        "    return f'IQR: {func(75, 25)}s, Range: {func(100, 0)}s'"
      ],
      "id": "08084590"
    },
    {
      "cell_type": "code",
      "execution_count": null,
      "metadata": {
        "id": "eaa43e89"
      },
      "outputs": [],
      "source": [
        "#@title\n",
        "def create_graph(func, arr, xlab, ylab, title,):\n",
        "    \"\"\"Creates specified graph with subplots corresponding to each recording\"\"\"\n",
        "    fig, ax = plt.subplots(1, 1, sharex=True, sharey=True)\n",
        "    func(arr, ax)\n",
        "    ax.set_xlabel(xlab,)\n",
        "    ax.set_ylabel(ylab, x=0.01)\n",
        "    ax.set_title(title)\n",
        "    fig.tight_layout()\n",
        "    return fig"
      ],
      "id": "eaa43e89"
    },
    {
      "cell_type": "code",
      "execution_count": null,
      "metadata": {
        "id": "74199698",
        "collapsed": true,
        "colab": {
          "base_uri": "https://localhost:8080/",
          "height": 311
        },
        "outputId": "55197cea-dbcb-4115-878d-84350d0db319"
      },
      "outputs": [
        {
          "output_type": "display_data",
          "data": {
            "text/plain": [
              "<Figure size 432x288 with 1 Axes>"
            ],
            "image/png": "[encoded data removed]"
          },
          "metadata": {
            "needs_background": "light"
          }
        }
      ],
      "source": [
        "#@title\n",
        "hist = create_graph(func=plot_hist, arr=arr, xlab='Latency (s)', ylab='Frequency', title='Latency Distribution')"
      ],
      "id": "74199698"
    },
    {
      "cell_type": "code",
      "execution_count": null,
      "metadata": {
        "id": "45a358bd",
        "collapsed": true,
        "colab": {
          "base_uri": "https://localhost:8080/",
          "height": 311
        },
        "outputId": "01589c14-9c94-414a-c36b-a881fa60b664"
      },
      "outputs": [
        {
          "output_type": "display_data",
          "data": {
            "text/plain": [
              "<Figure size 432x288 with 1 Axes>"
            ],
            "image/png": "[encoded data removed]"
          },
          "metadata": {
            "needs_background": "light"
          }
        }
      ],
      "source": [
        "#@title\n",
        "line = create_graph(func=plot_line, arr=arr, xlab='Beat Number', ylab='Latency (s)', title='Latency Progression')"
      ],
      "id": "45a358bd"
    },
    {
      "cell_type": "markdown",
      "metadata": {
        "id": "gBiecjcLOccM"
      },
      "source": [
        "## Save data locally"
      ],
      "id": "gBiecjcLOccM"
    },
    {
      "cell_type": "code",
      "execution_count": null,
      "metadata": {
        "id": "Bv3ApxbkLylE"
      },
      "outputs": [],
      "source": [
        "#@title\n",
        "now = datetime.now(timezone.utc).strftime(\"%Y-%m-%d_%H-%M-%S\")"
      ],
      "id": "Bv3ApxbkLylE"
    },
    {
      "cell_type": "code",
      "execution_count": null,
      "metadata": {
        "id": "9sCnHEeCyeVM"
      },
      "outputs": [],
      "source": [
        "#@title\n",
        "f = {\n",
        "    'userinfo': f'{now}_userinfo.json',\n",
        "    'arr': f'{now}_arr.txt',\n",
        "    'hist': f'{now}_hist.png',\n",
        "    'line': f'{now}_line.png',\n",
        "    'raw_audio': f'{now}_raw.wav',\n",
        "    'cleaned_audio': f'{now}_cleaned.wav'\n",
        "}"
      ],
      "id": "9sCnHEeCyeVM"
    },
    {
      "cell_type": "code",
      "execution_count": null,
      "metadata": {
        "id": "ILwcbp0FNWtU"
      },
      "outputs": [],
      "source": [
        "#@title\n",
        "# Save user information as JSON file\n",
        "user_info = {\n",
        "    'location': user_location,\n",
        "    'description': internet_description,\n",
        "    'teleconference_quality': zoom_quality\n",
        "}\n",
        "with open(f['userinfo'], 'w') as fp:\n",
        "    json.dump(user_info, fp)"
      ],
      "id": "ILwcbp0FNWtU"
    },
    {
      "cell_type": "code",
      "execution_count": null,
      "metadata": {
        "id": "USSsmYlqMykk"
      },
      "outputs": [],
      "source": [
        "#@title\n",
        "# Save times array as text file\n",
        "np.savetxt(f['arr'], arr, delimiter=',')"
      ],
      "id": "USSsmYlqMykk"
    },
    {
      "cell_type": "code",
      "execution_count": null,
      "metadata": {
        "id": "yyh35l-VM1Lz"
      },
      "outputs": [],
      "source": [
        "#@title\n",
        "# Save both graphs as PNG files\n",
        "hist.savefig(f['hist'], facecolor='white', transparent=False, format=\"png\")\n",
        "line.savefig(f['line'], facecolor='white', transparent=False, format=\"png\")"
      ],
      "id": "yyh35l-VM1Lz"
    },
    {
      "cell_type": "code",
      "execution_count": null,
      "metadata": {
        "id": "p62cPsSmOCs8"
      },
      "outputs": [],
      "source": [
        "#@title\n",
        "# Save raw and cleaned audio files\n",
        "sf.write(f['raw_audio'], y, sr, 'PCM_24')\n",
        "sf.write(f['cleaned_audio'], reduced_noise, sr, 'PCM_24')"
      ],
      "id": "p62cPsSmOCs8"
    },
    {
      "cell_type": "markdown",
      "metadata": {
        "id": "YT0D14yJDiCX"
      },
      "source": [
        "# **4. Upload processed data**\n",
        "In order for you to upload your processed results, you need to allow Colab to access Google Drive. When you run the next cell, a page will open up asking you to grant access: click on your Google account, then click authorise.\n",
        "\n",
        "NB. Nothing will be changed with your personal Google drive: this process simply allows you to upload files into my drive."
      ],
      "id": "YT0D14yJDiCX"
    },
    {
      "cell_type": "code",
      "execution_count": null,
      "metadata": {
        "id": "zlztR4hCx1lc"
      },
      "outputs": [],
      "source": [
        "#@title\n",
        "from google.colab import auth\n",
        "auth.authenticate_user()"
      ],
      "id": "zlztR4hCx1lc"
    },
    {
      "cell_type": "markdown",
      "metadata": {
        "id": "2tOohHNk0vLs"
      },
      "source": [
        "## Upload the files\n"
      ],
      "id": "2tOohHNk0vLs"
    },
    {
      "cell_type": "code",
      "execution_count": null,
      "metadata": {
        "id": "nVM-MsqCdrpv"
      },
      "outputs": [],
      "source": [
        "#@title\n",
        "from googleapiclient.http import MediaFileUpload\n",
        "from googleapiclient.discovery import build"
      ],
      "id": "nVM-MsqCdrpv"
    },
    {
      "cell_type": "code",
      "execution_count": null,
      "metadata": {
        "id": "Qw_f3JadzWLU"
      },
      "outputs": [],
      "source": [
        "#@title\n",
        "mimetypes = {\n",
        "    f'{now}_userinfo.json': 'application/json', \n",
        "    f'{now}_arr.txt': 'text/plain',\n",
        "    f'{now}_hist.png': 'image/png',\n",
        "    f'{now}_line.png': 'image/png',\n",
        "    f'{now}_raw.wav': 'audio/wav', \n",
        "    f'{now}_cleaned.wav': 'audio/wav', \n",
        "}\n",
        "folder_id = '1AM6jbj9y2936H-AgU7zemyZahcsU8m87'"
      ],
      "id": "Qw_f3JadzWLU"
    },
    {
      "cell_type": "code",
      "execution_count": null,
      "metadata": {
        "id": "uSlVZikv0SlU"
      },
      "outputs": [],
      "source": [
        "#@title\n",
        "def upload_file(folder_id, filename, mimetype):\n",
        "  \"\"\"Uploads a local file to shared google drive folder with given mimetype\"\"\"\n",
        "  gd = build('drive', 'v3').files()\n",
        "  file_metadata = {\n",
        "      'name': filename,\n",
        "      'parents': [folder_id]\n",
        "  }\n",
        "  media = MediaFileUpload(filename, mimetype=mimetype, resumable=True)\n",
        "  file = gd.create(body=file_metadata, media_body=media, fields='id').execute()\n"
      ],
      "id": "uSlVZikv0SlU"
    },
    {
      "cell_type": "code",
      "execution_count": null,
      "metadata": {
        "id": "Ul5KZSf30Yv7"
      },
      "outputs": [],
      "source": [
        "#@title\n",
        "for filename, mimetype in mimetypes.items():\n",
        "    upload_file(folder_id, filename, mimetype)\n"
      ],
      "id": "Ul5KZSf30Yv7"
    }
  ],
  "metadata": {
    "colab": {
      "collapsed_sections": [
        "hL0tZJFTwTKz",
        "db6e283d",
        "_uA7rGPuq05e",
        "TbV3tsWssxV-",
        "deb3d7d7",
        "OBU6PZQMyXy8",
        "gBiecjcLOccM",
        "YT0D14yJDiCX",
        "2tOohHNk0vLs"
      ],
      "name": "Crowdsource-Jitter-Analysis.ipynb",
      "provenance": [],
      "include_colab_link": true
    },
    "kernelspec": {
      "display_name": "Python 3 (ipykernel)",
      "language": "python",
      "name": "python3"
    },
    "language_info": {
      "codemirror_mode": {
        "name": "ipython",
        "version": 3
      },
      "file_extension": ".py",
      "mimetype": "text/x-python",
      "name": "python",
      "nbconvert_exporter": "python",
      "pygments_lexer": "ipython3",
      "version": "3.9.6"
    }
  },
  "nbformat": 4,
  "nbformat_minor": 5
}